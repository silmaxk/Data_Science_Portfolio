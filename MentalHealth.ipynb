{
 "cells": [
  {
   "cell_type": "markdown",
   "metadata": {},
   "source": [
    "FINAL PROJECT"
   ]
  },
  {
   "cell_type": "code",
   "execution_count": 1,
   "metadata": {},
   "outputs": [
    {
     "data": {
      "text/html": [
       "<div>\n",
       "<style scoped>\n",
       "    .dataframe tbody tr th:only-of-type {\n",
       "        vertical-align: middle;\n",
       "    }\n",
       "\n",
       "    .dataframe tbody tr th {\n",
       "        vertical-align: top;\n",
       "    }\n",
       "\n",
       "    .dataframe thead th {\n",
       "        text-align: right;\n",
       "    }\n",
       "</style>\n",
       "<table border=\"1\" class=\"dataframe\">\n",
       "  <thead>\n",
       "    <tr style=\"text-align: right;\">\n",
       "      <th></th>\n",
       "      <th>id</th>\n",
       "      <th>gender</th>\n",
       "      <th>age</th>\n",
       "      <th>major</th>\n",
       "      <th>gpa</th>\n",
       "      <th>class_status</th>\n",
       "      <th>marital_status</th>\n",
       "      <th>have_depression</th>\n",
       "      <th>have_anxiety</th>\n",
       "      <th>have_panicattacks</th>\n",
       "      <th>seeked_treatment</th>\n",
       "    </tr>\n",
       "  </thead>\n",
       "  <tbody>\n",
       "    <tr>\n",
       "      <th>0</th>\n",
       "      <td>1</td>\n",
       "      <td>Female</td>\n",
       "      <td>19</td>\n",
       "      <td>Social Sciences</td>\n",
       "      <td>2.95</td>\n",
       "      <td>Sophomore</td>\n",
       "      <td>Yes</td>\n",
       "      <td>Yes</td>\n",
       "      <td>Yes</td>\n",
       "      <td>No</td>\n",
       "      <td>No</td>\n",
       "    </tr>\n",
       "    <tr>\n",
       "      <th>1</th>\n",
       "      <td>2</td>\n",
       "      <td>Male</td>\n",
       "      <td>18</td>\n",
       "      <td>Social Sciences</td>\n",
       "      <td>3.61</td>\n",
       "      <td>Sophomore</td>\n",
       "      <td>No</td>\n",
       "      <td>No</td>\n",
       "      <td>No</td>\n",
       "      <td>No</td>\n",
       "      <td>No</td>\n",
       "    </tr>\n",
       "    <tr>\n",
       "      <th>2</th>\n",
       "      <td>3</td>\n",
       "      <td>Male</td>\n",
       "      <td>20</td>\n",
       "      <td>Business</td>\n",
       "      <td>1.96</td>\n",
       "      <td>Junior</td>\n",
       "      <td>NaN</td>\n",
       "      <td>No</td>\n",
       "      <td>No</td>\n",
       "      <td>Yes</td>\n",
       "      <td>Yes</td>\n",
       "    </tr>\n",
       "    <tr>\n",
       "      <th>3</th>\n",
       "      <td>4</td>\n",
       "      <td>Agender</td>\n",
       "      <td>20</td>\n",
       "      <td>Communications</td>\n",
       "      <td>3.98</td>\n",
       "      <td>Freshman</td>\n",
       "      <td>No</td>\n",
       "      <td>Yes</td>\n",
       "      <td>Yes</td>\n",
       "      <td>No</td>\n",
       "      <td>No</td>\n",
       "    </tr>\n",
       "    <tr>\n",
       "      <th>4</th>\n",
       "      <td>5</td>\n",
       "      <td>Male</td>\n",
       "      <td>22</td>\n",
       "      <td>Business</td>\n",
       "      <td>2.53</td>\n",
       "      <td>Sophomore</td>\n",
       "      <td>No</td>\n",
       "      <td>No</td>\n",
       "      <td>No</td>\n",
       "      <td>Yes</td>\n",
       "      <td>No</td>\n",
       "    </tr>\n",
       "  </tbody>\n",
       "</table>\n",
       "</div>"
      ],
      "text/plain": [
       "   id   gender  age            major   gpa class_status marital_status  \\\n",
       "0   1   Female   19  Social Sciences  2.95    Sophomore            Yes   \n",
       "1   2     Male   18  Social Sciences  3.61    Sophomore             No   \n",
       "2   3     Male   20         Business  1.96       Junior            NaN   \n",
       "3   4  Agender   20   Communications  3.98     Freshman             No   \n",
       "4   5     Male   22         Business  2.53    Sophomore             No   \n",
       "\n",
       "  have_depression have_anxiety have_panicattacks seeked_treatment  \n",
       "0             Yes          Yes                No               No  \n",
       "1              No           No                No               No  \n",
       "2              No           No               Yes              Yes  \n",
       "3             Yes          Yes                No               No  \n",
       "4              No           No               Yes               No  "
      ]
     },
     "execution_count": 1,
     "metadata": {},
     "output_type": "execute_result"
    }
   ],
   "source": [
    "import pandas as pd\n",
    "import numpy as np\n",
    "import seaborn as sns\n",
    "from scipy import stats\n",
    "import matplotlib.pyplot as plt\n",
    "from matplotlib.pyplot import pie, axis, show\n",
    "%matplotlib inline\n",
    "\n",
    "# Storing dataset in Pandas dataframe\n",
    "df = pd.read_csv('mental_health_dataset.csv')\n",
    "\n",
    "# Display the data\n",
    "df.head()\n"
   ]
  },
  {
   "cell_type": "markdown",
   "metadata": {},
   "source": [
    "MEAN"
   ]
  },
  {
   "cell_type": "code",
   "execution_count": 4,
   "metadata": {},
   "outputs": [
    {
     "name": "stdout",
     "output_type": "stream",
     "text": [
      "Mean of AGE 19.99656\n",
      "Mean of GPA 2.904156799999987\n"
     ]
    }
   ],
   "source": [
    "print(\"Mean of AGE\", np.mean(df['age']))\n",
    "print(\"Mean of GPA\", np.mean(df['gpa']))"
   ]
  },
  {
   "cell_type": "markdown",
   "metadata": {},
   "source": [
    "MEDIAN"
   ]
  },
  {
   "cell_type": "code",
   "execution_count": 5,
   "metadata": {},
   "outputs": [
    {
     "name": "stdout",
     "output_type": "stream",
     "text": [
      "Median of AGE 20.0\n",
      "Median of GPA 2.91\n"
     ]
    }
   ],
   "source": [
    "print(\"Median of AGE\", np.median(df['age']))\n",
    "print(\"Median of GPA\", np.median(df['gpa']))"
   ]
  },
  {
   "cell_type": "markdown",
   "metadata": {},
   "source": [
    "MODE"
   ]
  },
  {
   "cell_type": "code",
   "execution_count": 8,
   "metadata": {},
   "outputs": [
    {
     "name": "stdout",
     "output_type": "stream",
     "text": [
      "Mode of AGE ModeResult(mode=array([18], dtype=int64), count=array([3609]))\n",
      "Mode of GPA ModeResult(mode=array([3.88]), count=array([147]))\n"
     ]
    }
   ],
   "source": [
    "print(\"Mode of AGE\",  stats.mode(df['age']))\n",
    "print(\"Mode of GPA\", stats.mode(df['gpa']))"
   ]
  },
  {
   "cell_type": "markdown",
   "metadata": {},
   "source": [
    "STANDARD DEVIATION"
   ]
  },
  {
   "cell_type": "code",
   "execution_count": 9,
   "metadata": {},
   "outputs": [
    {
     "name": "stdout",
     "output_type": "stream",
     "text": [
      "AGE STD 1.9986766037558397\n",
      "GPA STD 0.635744446309813\n"
     ]
    }
   ],
   "source": [
    "print(\"AGE STD\", np.std(df['age']))\n",
    "print(\"GPA STD\", np.std(df['gpa']))"
   ]
  },
  {
   "cell_type": "markdown",
   "metadata": {},
   "source": [
    "VARIANCE"
   ]
  },
  {
   "cell_type": "code",
   "execution_count": 10,
   "metadata": {},
   "outputs": [
    {
     "name": "stdout",
     "output_type": "stream",
     "text": [
      "Variance of AGE 3.9947081664009776\n",
      "Variance of GPA 0.40417100101377074\n"
     ]
    }
   ],
   "source": [
    "print(\"Variance of AGE\", np.var(df['age']))\n",
    "print(\"Variance of GPA\", np.var(df['gpa']))"
   ]
  },
  {
   "cell_type": "markdown",
   "metadata": {},
   "source": [
    "Describing the data statistically"
   ]
  },
  {
   "cell_type": "code",
   "execution_count": 2,
   "metadata": {},
   "outputs": [
    {
     "data": {
      "text/html": [
       "<div>\n",
       "<style scoped>\n",
       "    .dataframe tbody tr th:only-of-type {\n",
       "        vertical-align: middle;\n",
       "    }\n",
       "\n",
       "    .dataframe tbody tr th {\n",
       "        vertical-align: top;\n",
       "    }\n",
       "\n",
       "    .dataframe thead th {\n",
       "        text-align: right;\n",
       "    }\n",
       "</style>\n",
       "<table border=\"1\" class=\"dataframe\">\n",
       "  <thead>\n",
       "    <tr style=\"text-align: right;\">\n",
       "      <th></th>\n",
       "      <th>id</th>\n",
       "      <th>age</th>\n",
       "      <th>gpa</th>\n",
       "    </tr>\n",
       "  </thead>\n",
       "  <tbody>\n",
       "    <tr>\n",
       "      <th>count</th>\n",
       "      <td>25000.000000</td>\n",
       "      <td>25000.000000</td>\n",
       "      <td>25000.000000</td>\n",
       "    </tr>\n",
       "    <tr>\n",
       "      <th>mean</th>\n",
       "      <td>12500.500000</td>\n",
       "      <td>19.996560</td>\n",
       "      <td>2.904157</td>\n",
       "    </tr>\n",
       "    <tr>\n",
       "      <th>std</th>\n",
       "      <td>7217.022701</td>\n",
       "      <td>1.998717</td>\n",
       "      <td>0.635757</td>\n",
       "    </tr>\n",
       "    <tr>\n",
       "      <th>min</th>\n",
       "      <td>1.000000</td>\n",
       "      <td>17.000000</td>\n",
       "      <td>1.800000</td>\n",
       "    </tr>\n",
       "    <tr>\n",
       "      <th>25%</th>\n",
       "      <td>6250.750000</td>\n",
       "      <td>18.000000</td>\n",
       "      <td>2.360000</td>\n",
       "    </tr>\n",
       "    <tr>\n",
       "      <th>50%</th>\n",
       "      <td>12500.500000</td>\n",
       "      <td>20.000000</td>\n",
       "      <td>2.910000</td>\n",
       "    </tr>\n",
       "    <tr>\n",
       "      <th>75%</th>\n",
       "      <td>18750.250000</td>\n",
       "      <td>22.000000</td>\n",
       "      <td>3.460000</td>\n",
       "    </tr>\n",
       "    <tr>\n",
       "      <th>max</th>\n",
       "      <td>25000.000000</td>\n",
       "      <td>23.000000</td>\n",
       "      <td>4.000000</td>\n",
       "    </tr>\n",
       "  </tbody>\n",
       "</table>\n",
       "</div>"
      ],
      "text/plain": [
       "                 id           age           gpa\n",
       "count  25000.000000  25000.000000  25000.000000\n",
       "mean   12500.500000     19.996560      2.904157\n",
       "std     7217.022701      1.998717      0.635757\n",
       "min        1.000000     17.000000      1.800000\n",
       "25%     6250.750000     18.000000      2.360000\n",
       "50%    12500.500000     20.000000      2.910000\n",
       "75%    18750.250000     22.000000      3.460000\n",
       "max    25000.000000     23.000000      4.000000"
      ]
     },
     "execution_count": 2,
     "metadata": {},
     "output_type": "execute_result"
    }
   ],
   "source": [
    "df.describe()"
   ]
  },
  {
   "cell_type": "markdown",
   "metadata": {},
   "source": [
    "Remove any rows with NaN or NULL values"
   ]
  },
  {
   "cell_type": "code",
   "execution_count": 2,
   "metadata": {},
   "outputs": [
    {
     "data": {
      "text/html": [
       "<div>\n",
       "<style scoped>\n",
       "    .dataframe tbody tr th:only-of-type {\n",
       "        vertical-align: middle;\n",
       "    }\n",
       "\n",
       "    .dataframe tbody tr th {\n",
       "        vertical-align: top;\n",
       "    }\n",
       "\n",
       "    .dataframe thead th {\n",
       "        text-align: right;\n",
       "    }\n",
       "</style>\n",
       "<table border=\"1\" class=\"dataframe\">\n",
       "  <thead>\n",
       "    <tr style=\"text-align: right;\">\n",
       "      <th></th>\n",
       "      <th>id</th>\n",
       "      <th>gender</th>\n",
       "      <th>age</th>\n",
       "      <th>major</th>\n",
       "      <th>gpa</th>\n",
       "      <th>class_status</th>\n",
       "      <th>marital_status</th>\n",
       "      <th>have_depression</th>\n",
       "      <th>have_anxiety</th>\n",
       "      <th>have_panicattacks</th>\n",
       "      <th>seeked_treatment</th>\n",
       "    </tr>\n",
       "  </thead>\n",
       "  <tbody>\n",
       "    <tr>\n",
       "      <th>0</th>\n",
       "      <td>1</td>\n",
       "      <td>Female</td>\n",
       "      <td>19</td>\n",
       "      <td>Social Sciences</td>\n",
       "      <td>2.95</td>\n",
       "      <td>Sophomore</td>\n",
       "      <td>Yes</td>\n",
       "      <td>Yes</td>\n",
       "      <td>Yes</td>\n",
       "      <td>No</td>\n",
       "      <td>No</td>\n",
       "    </tr>\n",
       "    <tr>\n",
       "      <th>1</th>\n",
       "      <td>2</td>\n",
       "      <td>Male</td>\n",
       "      <td>18</td>\n",
       "      <td>Social Sciences</td>\n",
       "      <td>3.61</td>\n",
       "      <td>Sophomore</td>\n",
       "      <td>No</td>\n",
       "      <td>No</td>\n",
       "      <td>No</td>\n",
       "      <td>No</td>\n",
       "      <td>No</td>\n",
       "    </tr>\n",
       "    <tr>\n",
       "      <th>3</th>\n",
       "      <td>4</td>\n",
       "      <td>Agender</td>\n",
       "      <td>20</td>\n",
       "      <td>Communications</td>\n",
       "      <td>3.98</td>\n",
       "      <td>Freshman</td>\n",
       "      <td>No</td>\n",
       "      <td>Yes</td>\n",
       "      <td>Yes</td>\n",
       "      <td>No</td>\n",
       "      <td>No</td>\n",
       "    </tr>\n",
       "    <tr>\n",
       "      <th>4</th>\n",
       "      <td>5</td>\n",
       "      <td>Male</td>\n",
       "      <td>22</td>\n",
       "      <td>Business</td>\n",
       "      <td>2.53</td>\n",
       "      <td>Sophomore</td>\n",
       "      <td>No</td>\n",
       "      <td>No</td>\n",
       "      <td>No</td>\n",
       "      <td>Yes</td>\n",
       "      <td>No</td>\n",
       "    </tr>\n",
       "    <tr>\n",
       "      <th>5</th>\n",
       "      <td>6</td>\n",
       "      <td>Female</td>\n",
       "      <td>17</td>\n",
       "      <td>Communications</td>\n",
       "      <td>2.20</td>\n",
       "      <td>Freshman</td>\n",
       "      <td>No</td>\n",
       "      <td>Yes</td>\n",
       "      <td>No</td>\n",
       "      <td>No</td>\n",
       "      <td>No</td>\n",
       "    </tr>\n",
       "  </tbody>\n",
       "</table>\n",
       "</div>"
      ],
      "text/plain": [
       "   id   gender  age            major   gpa class_status marital_status  \\\n",
       "0   1   Female   19  Social Sciences  2.95    Sophomore            Yes   \n",
       "1   2     Male   18  Social Sciences  3.61    Sophomore             No   \n",
       "3   4  Agender   20   Communications  3.98     Freshman             No   \n",
       "4   5     Male   22         Business  2.53    Sophomore             No   \n",
       "5   6   Female   17   Communications  2.20     Freshman             No   \n",
       "\n",
       "  have_depression have_anxiety have_panicattacks seeked_treatment  \n",
       "0             Yes          Yes                No               No  \n",
       "1              No           No                No               No  \n",
       "3             Yes          Yes                No               No  \n",
       "4              No           No               Yes               No  \n",
       "5             Yes           No                No               No  "
      ]
     },
     "execution_count": 2,
     "metadata": {},
     "output_type": "execute_result"
    }
   ],
   "source": [
    "df.dropna(how='any', inplace=True)"
   ]
  },
  {
   "cell_type": "markdown",
   "metadata": {},
   "source": [
    "DATA VISUALIZATION"
   ]
  },
  {
   "cell_type": "code",
   "execution_count": 13,
   "metadata": {},
   "outputs": [
    {
     "data": {
      "image/png": "[encoded data removed]",
      "text/plain": [
       "<Figure size 432x288 with 1 Axes>"
      ]
     },
     "metadata": {
      "needs_background": "light"
     },
     "output_type": "display_data"
    },
    {
     "data": {
      "image/png": "[encoded data removed]",
      "text/plain": [
       "<Figure size 432x288 with 1 Axes>"
      ]
     },
     "metadata": {
      "needs_background": "light"
     },
     "output_type": "display_data"
    },
    {
     "data": {
      "image/png": "[encoded data removed]",
      "text/plain": [
       "<Figure size 432x288 with 1 Axes>"
      ]
     },
     "metadata": {
      "needs_background": "light"
     },
     "output_type": "display_data"
    },
    {
     "data": {
      "image/png": "[encoded data removed]",
      "text/plain": [
       "<Figure size 432x288 with 1 Axes>"
      ]
     },
     "metadata": {
      "needs_background": "light"
     },
     "output_type": "display_data"
    },
    {
     "data": {
      "image/png": "[encoded data removed]",
      "text/plain": [
       "<Figure size 432x288 with 1 Axes>"
      ]
     },
     "metadata": {
      "needs_background": "light"
     },
     "output_type": "display_data"
    },
    {
     "data": {
      "image/png": "[encoded data removed]",
      "text/plain": [
       "<Figure size 432x288 with 1 Axes>"
      ]
     },
     "metadata": {
      "needs_background": "light"
     },
     "output_type": "display_data"
    }
   ],
   "source": [
    "# # Data Visualization\n",
    "\n",
    "# Panic attacks by class status \n",
    "plt.figure(1)\n",
    "sns.countplot(data=df, x='have_panicattacks', hue='class_status', palette='tab10')\n",
    "plt.title(\"Panic attacks\")\n",
    "plt.xlabel('Panic attacks among students')\n",
    "plt.ylabel(\"Count\")\n",
    "plt.show()\n",
    "\n",
    "# Mental health by class status\n",
    "plt.figure(2)\n",
    "sns.countplot(data=df, x='have_depression', hue='class_status', palette='husl')\n",
    "plt.title(\"Mental Health\")\n",
    "plt.xlabel('Depression among students')\n",
    "plt.ylabel(\"Count\")\n",
    "plt.show()\n",
    "\n",
    "# Anxiety by class status\n",
    "plt.figure(3)\n",
    "sns.countplot(data=df, x='have_anxiety', hue='class_status', palette='tab10')\n",
    "plt.title(\"Anxiety\")\n",
    "plt.xlabel('Anxiety among students')\n",
    "plt.ylabel(\"Count\")\n",
    "plt.show()\n",
    "\n",
    "# Sought treatment by class status\n",
    "plt.figure(4)\n",
    "sns.countplot(data=df, x='seeked_treatment', hue='class_status', palette='tab10')\n",
    "plt.title(\"Sought Treatment\")\n",
    "plt.xlabel('Treatment among students')\n",
    "plt.ylabel(\"Count\")\n",
    "plt.show()\n",
    "\n",
    "# GPA By Age, Hue 'Marital Status'\n",
    "plt.figure(5)\n",
    "sns.lineplot(data=df, x='age', y='gpa', hue='marital_status', palette='tab10')\n",
    "plt.title(\"GPA vs Age\")\n",
    "plt.xlabel('Age')\n",
    "plt.ylabel(\"GPA\")\n",
    "plt.show()\n",
    "\n",
    "# Histogram\n",
    "plt.figure(6)\n",
    "sns.histplot(data=df, x='gpa', bins = [1.8, 2.0, 2.25, 2.5, 2.75, 3, 3.25, 3.5, 3.75, 4], hue='class_status', palette='tab10')\n",
    "plt.title(\"GPA\")\n",
    "plt.xlabel('GPA')\n",
    "plt.ylabel(\"Count\")\n",
    "plt.show()\n",
    "\n",
    "\n"
   ]
  },
  {
   "cell_type": "code",
   "execution_count": 13,
   "metadata": {},
   "outputs": [
    {
     "data": {
      "text/plain": [
       "Text(0.5, 1.0, 'Major Taken')"
      ]
     },
     "execution_count": 13,
     "metadata": {},
     "output_type": "execute_result"
    },
    {
     "data": {
      "image/png": "[encoded data removed]",
      "text/plain": [
       "<Figure size 432x288 with 1 Axes>"
      ]
     },
     "metadata": {},
     "output_type": "display_data"
    }
   ],
   "source": [
    "##Pie chart of major\n",
    "labels = [\"Social Science\",\"Business\",\n",
    "          \"Communication\", \"Engineering\",\n",
    "          \"Arts\", \"Life Science\", \"History\",\n",
    "          \"Information Sysyems\", \"Language\"]\n",
    "plt.pie(df['major'].value_counts(), labels=labels, autopct='%1.1f%%',\n",
    "        explode=(0.3,0,0,0,0,0,0,0,0.3))\n",
    "plt.title(\"Major Taken\")"
   ]
  },
  {
   "cell_type": "code",
   "execution_count": 10,
   "metadata": {},
   "outputs": [
    {
     "data": {
      "text/plain": [
       "Text(0.5, 1.0, 'Class Status')"
      ]
     },
     "execution_count": 10,
     "metadata": {},
     "output_type": "execute_result"
    },
    {
     "data": {
      "image/png": "[encoded data removed]",
      "text/plain": [
       "<Figure size 432x288 with 1 Axes>"
      ]
     },
     "metadata": {},
     "output_type": "display_data"
    }
   ],
   "source": [
    "##Pie chart of Class Status\n",
    "labels = [\"Freshman\", \"Sophomore\", \n",
    "          \"Junior\", \"Senior\"]\n",
    "plt.pie(df['class_status'].value_counts(), labels=labels,\n",
    "        autopct='%1.1f%%',explode=(0.1,0,0,0.1))\n",
    "plt.title(\"Class Status\")"
   ]
  },
  {
   "cell_type": "markdown",
   "metadata": {},
   "source": [
    "Ordinalize any categorical data into numerical data (map categorical values to integers: 0, 1, 2, 3, ...)"
   ]
  },
  {
   "cell_type": "code",
   "execution_count": 5,
   "metadata": {},
   "outputs": [
    {
     "data": {
      "text/html": [
       "<div>\n",
       "<style scoped>\n",
       "    .dataframe tbody tr th:only-of-type {\n",
       "        vertical-align: middle;\n",
       "    }\n",
       "\n",
       "    .dataframe tbody tr th {\n",
       "        vertical-align: top;\n",
       "    }\n",
       "\n",
       "    .dataframe thead th {\n",
       "        text-align: right;\n",
       "    }\n",
       "</style>\n",
       "<table border=\"1\" class=\"dataframe\">\n",
       "  <thead>\n",
       "    <tr style=\"text-align: right;\">\n",
       "      <th></th>\n",
       "      <th>id</th>\n",
       "      <th>gender</th>\n",
       "      <th>age</th>\n",
       "      <th>major</th>\n",
       "      <th>gpa</th>\n",
       "      <th>class_status</th>\n",
       "      <th>marital_status</th>\n",
       "      <th>have_depression</th>\n",
       "      <th>have_anxiety</th>\n",
       "      <th>have_panicattacks</th>\n",
       "      <th>seeked_treatment</th>\n",
       "    </tr>\n",
       "  </thead>\n",
       "  <tbody>\n",
       "    <tr>\n",
       "      <th>0</th>\n",
       "      <td>1</td>\n",
       "      <td>0</td>\n",
       "      <td>19</td>\n",
       "      <td>0</td>\n",
       "      <td>2.95</td>\n",
       "      <td>1</td>\n",
       "      <td>1</td>\n",
       "      <td>1</td>\n",
       "      <td>1</td>\n",
       "      <td>0</td>\n",
       "      <td>0</td>\n",
       "    </tr>\n",
       "    <tr>\n",
       "      <th>1</th>\n",
       "      <td>2</td>\n",
       "      <td>1</td>\n",
       "      <td>18</td>\n",
       "      <td>0</td>\n",
       "      <td>3.61</td>\n",
       "      <td>1</td>\n",
       "      <td>0</td>\n",
       "      <td>0</td>\n",
       "      <td>0</td>\n",
       "      <td>0</td>\n",
       "      <td>0</td>\n",
       "    </tr>\n",
       "    <tr>\n",
       "      <th>3</th>\n",
       "      <td>4</td>\n",
       "      <td>2</td>\n",
       "      <td>20</td>\n",
       "      <td>2</td>\n",
       "      <td>3.98</td>\n",
       "      <td>0</td>\n",
       "      <td>0</td>\n",
       "      <td>1</td>\n",
       "      <td>1</td>\n",
       "      <td>0</td>\n",
       "      <td>0</td>\n",
       "    </tr>\n",
       "    <tr>\n",
       "      <th>4</th>\n",
       "      <td>5</td>\n",
       "      <td>1</td>\n",
       "      <td>22</td>\n",
       "      <td>1</td>\n",
       "      <td>2.53</td>\n",
       "      <td>1</td>\n",
       "      <td>0</td>\n",
       "      <td>0</td>\n",
       "      <td>0</td>\n",
       "      <td>1</td>\n",
       "      <td>0</td>\n",
       "    </tr>\n",
       "    <tr>\n",
       "      <th>5</th>\n",
       "      <td>6</td>\n",
       "      <td>0</td>\n",
       "      <td>17</td>\n",
       "      <td>2</td>\n",
       "      <td>2.20</td>\n",
       "      <td>0</td>\n",
       "      <td>0</td>\n",
       "      <td>1</td>\n",
       "      <td>0</td>\n",
       "      <td>0</td>\n",
       "      <td>0</td>\n",
       "    </tr>\n",
       "  </tbody>\n",
       "</table>\n",
       "</div>"
      ],
      "text/plain": [
       "   id  gender  age  major   gpa  class_status  marital_status  \\\n",
       "0   1       0   19      0  2.95             1               1   \n",
       "1   2       1   18      0  3.61             1               0   \n",
       "3   4       2   20      2  3.98             0               0   \n",
       "4   5       1   22      1  2.53             1               0   \n",
       "5   6       0   17      2  2.20             0               0   \n",
       "\n",
       "   have_depression  have_anxiety  have_panicattacks  seeked_treatment  \n",
       "0                1             1                  0                 0  \n",
       "1                0             0                  0                 0  \n",
       "3                1             1                  0                 0  \n",
       "4                0             0                  1                 0  \n",
       "5                1             0                  0                 0  "
      ]
     },
     "execution_count": 5,
     "metadata": {},
     "output_type": "execute_result"
    }
   ],
   "source": [
    "# Dummy Code all categorical features, and deal with outliers\n",
    "\n",
    "# Gender re mapping\n",
    "df[\"gender\"] = df[\"gender\"].map({\"Female\": 0, \"Male\": 1, \"Agender\": 2, \"Genderqueer\": 3, \"Bigender\": 4, \"Genderfluid\": 5, \n",
    "\"Non-binary\": 6, \"Polygender\": 7})\n",
    "\n",
    "# Major re mapping\n",
    "df[\"major\"] = df[\"major\"].map({'Social Sciences': 0, 'Business': 1, 'Communications': 2, 'Engineering': 3, 'Arts': 4, 'Life Sciences': 5,\n",
    "'History': 6, 'Language': 7, 'Information Systems': 8})\n",
    "\n",
    "# Class status re mapping\n",
    "df[\"class_status\"] = df[\"class_status\"].map({'Freshman': 0, 'Sophomore': 1, 'Junior': 2, 'Senior': 3})\n",
    "\n",
    "# Marital status re mapping\n",
    "df[\"marital_status\"] = df[\"marital_status\"].map({'No': 0, 'Yes': 1})\n",
    "\n",
    "# Has depression re mapping\n",
    "df[\"have_depression\"] = df[\"have_depression\"].map({'No': 0, 'Yes': 1})\n",
    "\n",
    "# Has anxiety re mapping\n",
    "df[\"have_anxiety\"] = df[\"have_anxiety\"].map({'No': 0, 'Yes': 1})\n",
    "\n",
    "# Has panic attacks re mapping\n",
    "df[\"have_panicattacks\"] = df[\"have_panicattacks\"].map({'No': 0, 'Yes': 1})\n",
    "\n",
    "# Has sought treatment re mapping\n",
    "df[\"seeked_treatment\"] = df[\"seeked_treatment\"].map({'No': 0, 'Yes': 1})\n",
    "\n",
    "# Display the dataframe but now with all numerical or ordinal values\n",
    "df.head()"
   ]
  },
  {
   "cell_type": "markdown",
   "metadata": {},
   "source": [
    "Perform Principal Component Analysis to assess the explained variance of each feature, potentially reducing non-essential features"
   ]
  },
  {
   "cell_type": "code",
   "execution_count": 6,
   "metadata": {},
   "outputs": [
    {
     "name": "stdout",
     "output_type": "stream",
     "text": [
      "\n",
      "\n",
      "PCA Explained Variance Chart\n",
      "[0.10345943 0.10195974 0.10166295 0.10138352 0.10050592 0.09975313\n",
      " 0.09916295 0.09795297 0.09791569]\n",
      "\n",
      "\n"
     ]
    },
    {
     "data": {
      "image/png": "[encoded data removed]",
      "text/plain": [
       "<Figure size 640x480 with 1 Axes>"
      ]
     },
     "metadata": {},
     "output_type": "display_data"
    }
   ],
   "source": [
    "from sklearn.preprocessing import StandardScaler\n",
    "from sklearn.decomposition import PCA\n",
    "\n",
    "dfPart = df.loc[:, df.columns != 'have_depression']\n",
    "ArraySS = StandardScaler().fit_transform(dfPart) \n",
    "\n",
    "#****************************************\n",
    "# Perform PCA\n",
    "#n_components is the amount of components (features) (dimension) you want to keep \n",
    "\n",
    "# 9 features\n",
    "pca = PCA(n_components = 9)\n",
    "PCAData = pca.fit_transform(ArraySS)\n",
    "\n",
    "\n",
    "#****************************************\n",
    "# Explained Variance\n",
    "print(\"\\n\")\n",
    "print(\"PCA Explained Variance Chart\")\n",
    "print(pca.explained_variance_ratio_)\n",
    "print(\"\\n\")\n",
    "\n",
    "#****************************************\n",
    "# Scree plot\n",
    "# To display the explained variance of each feature\n",
    "PC_values = np.arange(pca.n_components_)\n",
    "\n",
    "plt.figure(1)\n",
    "plt.bar(PC_values, pca.explained_variance_ratio_, width=0.4, color='black')\n",
    "plt.title('Scree Plot')\n",
    "plt.xlabel('Principal Component')\n",
    "plt.ylabel('Variance Explained')\n",
    "plt.show()\n"
   ]
  },
  {
   "cell_type": "markdown",
   "metadata": {},
   "source": [
    "The scree plot shows that each feature is roughly equally spread out with values. Thus, we can keep using all the features that originally came with the dataset."
   ]
  },
  {
   "cell_type": "markdown",
   "metadata": {},
   "source": [
    "Perform a Decision tree training testing model on the data to see how all of the features of a student (their GPA, their marital status, etc... to determine whether or not a student has depression"
   ]
  },
  {
   "cell_type": "code",
   "execution_count": 7,
   "metadata": {},
   "outputs": [],
   "source": [
    "# Decision Tree classification\n",
    "\n",
    "# Import necessary libraries for train/test split, classification, and results displaying\n",
    "from sklearn import tree\n",
    "from sklearn.model_selection import train_test_split\n",
    "from mlxtend.plotting import plot_decision_regions\n",
    "from mlxtend.plotting import plot_confusion_matrix\n",
    "from sklearn.metrics import confusion_matrix\n",
    "from sklearn.metrics import classification_report\n",
    "from sklearn.naive_bayes import GaussianNB\n",
    "from IPython.core.pylabtools import figsize\n",
    "from sklearn.metrics import accuracy_score"
   ]
  },
  {
   "cell_type": "code",
   "execution_count": 8,
   "metadata": {},
   "outputs": [
    {
     "data": {
      "text/plain": [
       "Text(0.5, 1.0, 'Decision Tree Max. Depth vs. Accuracy')"
      ]
     },
     "execution_count": 8,
     "metadata": {},
     "output_type": "execute_result"
    },
    {
     "data": {
      "image/png": "[encoded data removed]",
      "text/plain": [
       "<Figure size 640x480 with 1 Axes>"
      ]
     },
     "metadata": {},
     "output_type": "display_data"
    }
   ],
   "source": [
    "\n",
    "# Split data into train/test set with 70/30 split\n",
    "TrainData, TestData = train_test_split(df, test_size=0.3, shuffle=True)\n",
    "\n",
    "# Split the X and Y features\n",
    "x_features = ['gender', 'age', 'gpa', 'class_status', 'marital_status', 'have_anxiety', 'have_panicattacks', 'seeked_treatment']\n",
    "\n",
    "# # Populate the train and test data X and Y lists\n",
    "TrainDataX = TrainData[x_features]\n",
    "TrainDataY = TrainData['have_depression']\n",
    "\n",
    "TestDataX = TestData[x_features]\n",
    "TestDataY = TestData['have_depression']\n",
    "\n",
    "acc_list = []\n",
    "n_list = list(range(1,100))\n",
    "\n",
    "for i in n_list:\n",
    "    model = tree.DecisionTreeClassifier(criterion=\"gini\", min_samples_split=10, max_depth=i)\n",
    "    model.fit(TrainDataX, TrainDataY)\n",
    "\n",
    "    # Now with the training data fitted, it is time to let the test data make its own predictions based on the results of the train data model fit\n",
    "    PredictY = model.predict(TestDataX)\n",
    "    acc = accuracy_score(TestDataY, PredictY) \n",
    "    acc_list.append(acc)\n",
    "\n",
    "\n",
    "\n",
    "plt.scatter(n_list, acc_list)\n",
    "plt.xlabel(\"Max. Depth\")\n",
    "plt.ylabel(\"Accuracy\")\n",
    "plt.title(\"Decision Tree Max. Depth vs. Accuracy\")\n"
   ]
  },
  {
   "cell_type": "code",
   "execution_count": 14,
   "metadata": {},
   "outputs": [
    {
     "name": "stdout",
     "output_type": "stream",
     "text": [
      "Confusion Matrix...\n",
      "[[3059 1472]\n",
      " [1582  731]]\n",
      "Clasification Report...\n",
      "                          precision    recall  f1-score   support\n",
      "\n",
      "Does not have depression       0.66      0.68      0.67      4531\n",
      "          Has Depression       0.33      0.32      0.32      2313\n",
      "\n",
      "                accuracy                           0.55      6844\n",
      "               macro avg       0.50      0.50      0.50      6844\n",
      "            weighted avg       0.55      0.55      0.55      6844\n",
      "\n"
     ]
    }
   ],
   "source": [
    "\n",
    "# Decision Tree Classification - train the classifier with the train data set\n",
    "# Entropy measures the uncertainty or impurity, of a node\n",
    "# The more entropy a node has, the more uncertain the outcome (Yes or No for example) is to be\n",
    "\n",
    "# Decision Tree Classification - train the classifier with the train data set\n",
    "model = tree.DecisionTreeClassifier(max_depth=180)\n",
    "model.fit(TrainDataX, TrainDataY)\n",
    "\n",
    "\n",
    "#***********************************\n",
    "# Predict the response for test data set\n",
    "PredictY = model.predict(TestDataX)\n",
    "\n",
    "# Confusion matrix to differentiate between true positive and negative(TP TN), and false positive and negative (FP FN)\n",
    "CM = confusion_matrix(TestDataY, PredictY)\n",
    "print(\"Confusion Matrix...\")\n",
    "print(CM)\n",
    "\n",
    "# Print classification report and confusion matrix \n",
    "CR = classification_report(TestDataY,PredictY, target_names=['Does not have depression', 'Has Depression'])\n",
    "print(\"Clasification Report...\")\n",
    "print(CR)\n",
    "\n",
    "# other models \n",
    "# Naive bayes "
   ]
  },
  {
   "cell_type": "code",
   "execution_count": null,
   "metadata": {},
   "outputs": [],
   "source": [
    "\n"
   ]
  },
  {
   "cell_type": "code",
   "execution_count": null,
   "metadata": {},
   "outputs": [],
   "source": []
  }
 ],
 "metadata": {
  "kernelspec": {
   "display_name": "Python 3 (ipykernel)",
   "language": "python",
   "name": "python3"
  },
  "language_info": {
   "codemirror_mode": {
    "name": "ipython",
    "version": 3
   },
   "file_extension": ".py",
   "mimetype": "text/x-python",
   "name": "python",
   "nbconvert_exporter": "python",
   "pygments_lexer": "ipython3",
   "version": "3.9.12"
  },
  "vscode": {
   "interpreter": {
    "hash": "397704579725e15f5c7cb49fe5f0341eb7531c82d19f2c29d197e8b64ab5776b"
   }
  }
 },
 "nbformat": 4,
 "nbformat_minor": 4
}
